{
 "cells": [
  {
   "cell_type": "code",
   "execution_count": 9,
   "id": "6e03f8cb",
   "metadata": {},
   "outputs": [],
   "source": [
    "from surprise import Dataset, SVD, SVDpp, NMF\n",
    "from surprise.model_selection import cross_validate, GridSearchCV\n",
    "\n",
    "\n",
    "data = Dataset.load_builtin('ml-100k')\n"
   ]
  },
  {
   "cell_type": "code",
   "execution_count": 10,
   "id": "fcc2d460",
   "metadata": {},
   "outputs": [
    {
     "name": "stdout",
     "output_type": "stream",
     "text": [
      "Найкращі параметри для SVD: {'n_factors': 150, 'n_epochs': 30, 'lr_all': 0.01, 'reg_all': 0.1}\n"
     ]
    }
   ],
   "source": [
    "param_grid = {\n",
    "    'n_factors': [50, 100, 150],\n",
    "    'n_epochs': [20, 30],\n",
    "    'lr_all': [0.005, 0.01],\n",
    "    'reg_all': [0.02, 0.1]\n",
    "}\n",
    "\n",
    "\n",
    "grid_search_svd = GridSearchCV(SVD, param_grid, measures=['rmse', 'mae'], cv=5)\n",
    "grid_search_svd.fit(data)\n",
    "\n",
    "best_params_svd = grid_search_svd.best_params['rmse']\n",
    "print(f\"Найкращі параметри для SVD: {best_params_svd}\")\n"
   ]
  },
  {
   "cell_type": "code",
   "execution_count": 11,
   "id": "f0c80747",
   "metadata": {},
   "outputs": [
    {
     "name": "stdout",
     "output_type": "stream",
     "text": [
      "Evaluating RMSE, MAE of algorithm SVDpp on 5 split(s).\n",
      "\n",
      "                  Fold 1  Fold 2  Fold 3  Fold 4  Fold 5  Mean    Std     \n",
      "RMSE (testset)    0.9107  0.9061  0.9078  0.9117  0.9093  0.9091  0.0020  \n",
      "MAE (testset)     0.7195  0.7175  0.7186  0.7218  0.7168  0.7189  0.0017  \n",
      "Fit time          430.00  470.84  494.00  392.23  480.89  453.59  37.41   \n",
      "Test time         11.54   10.60   10.37   11.40   11.17   11.01   0.45    \n",
      "Evaluating RMSE, MAE of algorithm NMF on 5 split(s).\n",
      "\n",
      "                  Fold 1  Fold 2  Fold 3  Fold 4  Fold 5  Mean    Std     \n",
      "RMSE (testset)    1.6398  1.6388  1.6382  1.6412  1.6347  1.6385  0.0022  \n",
      "MAE (testset)     1.3028  1.3060  1.3060  1.3052  1.2986  1.3037  0.0028  \n",
      "Fit time          8.18    8.01    7.92    7.90    8.10    8.02    0.11    \n",
      "Test time         0.21    0.39    0.21    0.37    0.21    0.28    0.08    \n"
     ]
    }
   ],
   "source": [
    "svdpp = SVDpp(n_factors=best_params_svd['n_factors'], n_epochs=best_params_svd['n_epochs'], lr_all=best_params_svd['lr_all'], reg_all=best_params_svd['reg_all'])\n",
    "nmf = NMF(n_factors=best_params_svd['n_factors'], n_epochs=best_params_svd['n_epochs'])\n",
    "\n",
    "results_svdpp = cross_validate(svdpp, data, measures=['rmse', 'mae'], cv=5, verbose=True)\n",
    "\n",
    "results_nmf = cross_validate(nmf, data, measures=['rmse', 'mae'], cv=5, verbose=True)\n"
   ]
  },
  {
   "cell_type": "code",
   "execution_count": 12,
   "id": "43c503cd",
   "metadata": {},
   "outputs": [
    {
     "name": "stdout",
     "output_type": "stream",
     "text": [
      "Середній RMSE для SVD: 0.9118173962439775\n",
      "Середній RMSE для SVD++: 0.9091150921799287\n",
      "Середній RMSE для NMF: 1.6385219216531262\n"
     ]
    }
   ],
   "source": [
    "print(f\"Середній RMSE для SVD: {grid_search_svd.best_score['rmse']}\")\n",
    "print(f\"Середній RMSE для SVD++: {results_svdpp['test_rmse'].mean()}\")\n",
    "print(f\"Середній RMSE для NMF: {results_nmf['test_rmse'].mean()}\")\n"
   ]
  }
 ],
 "metadata": {
  "language_info": {
   "name": "python"
  }
 },
 "nbformat": 4,
 "nbformat_minor": 5
}
